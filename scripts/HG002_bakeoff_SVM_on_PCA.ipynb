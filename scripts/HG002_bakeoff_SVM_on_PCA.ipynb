{
 "cells": [
  {
   "cell_type": "code",
   "execution_count": 1,
   "metadata": {},
   "outputs": [],
   "source": [
    "from sklearn.svm import SVC # \"Support vector classifier\"\n",
    "\n",
    "%matplotlib inline\n",
    "import numpy as np\n",
    "import matplotlib.pyplot as plt\n",
    "from scipy import stats\n",
    "\n",
    "import seaborn as sns; sns.set()\n",
    "\n",
    "import pandas as pd\n",
    "\n",
    "import itertools\n",
    "\n",
    "import os\n",
    "\n",
    "dir_base = '/home/guarracino/Downloads/Pangenomics/HG002_bakeoff'"
   ]
  },
  {
   "cell_type": "markdown",
   "metadata": {},
   "source": [
    "Find principal component pairs with a good enough separation line between `maternal` and `paternal` haplotypes:"
   ]
  },
  {
   "cell_type": "code",
   "execution_count": 2,
   "metadata": {
    "scrolled": true
   },
   "outputs": [
    {
     "name": "stdout",
     "output_type": "stream",
     "text": [
      "All\n",
      "\t 0 1 1.0\n",
      "XY\n",
      "\t 0 1 1.0\n",
      "1\n",
      "\t 0 1 0.7857142857142857\n",
      "\t 0 2 0.42857142857142855\n",
      "\t 0 3 0.7142857142857143\n",
      "\t 0 4 1.0\n",
      "2\n",
      "\t 0 1 0.7142857142857143\n",
      "\t 0 2 0.5\n",
      "\t 0 3 0.5714285714285714\n",
      "\t 0 4 1.0\n",
      "3\n",
      "\t 0 1 1.0\n",
      "4\n",
      "\t 0 1 1.0\n",
      "5\n",
      "\t 0 1 1.0\n",
      "6\n",
      "\t 0 1 1.0\n",
      "7\n",
      "\t 0 1 1.0\n",
      "8\n",
      "\t 0 1 0.5\n",
      "\t 0 2 1.0\n",
      "9\n",
      "\t 0 1 0.5\n",
      "\t 0 2 0.5\n",
      "\t 0 3 0.7142857142857143\n",
      "\t 0 4 0.7857142857142857\n",
      "\t 0 5 1.0\n",
      "10\n",
      "\t 0 1 1.0\n",
      "11\n",
      "\t 0 1 1.0\n",
      "12\n",
      "\t 0 1 1.0\n",
      "13\n",
      "\t 0 1 1.0\n",
      "14\n",
      "\t 0 1 1.0\n",
      "15\n",
      "\t 0 1 0.8571428571428571\n",
      "\t 0 2 1.0\n",
      "16\n",
      "\t 0 1 0.5\n",
      "\t 0 2 0.6428571428571429\n",
      "\t 0 3 0.8571428571428571\n",
      "\t 0 4 0.5714285714285714\n",
      "\t 0 5 0.8571428571428571\n",
      "\t 0 6 0.8571428571428571\n",
      "\t 0 7 0.9285714285714286\n",
      "\t 0 8 0.8571428571428571\n",
      "\t 0 9 0.5714285714285714\n",
      "\t 0 10 0.6428571428571429\n",
      "\t 0 11 0.5\n",
      "\t 0 12 0.5714285714285714\n",
      "\t 0 13 0.5\n",
      "\t 1 2 0.7142857142857143\n",
      "\t 1 3 1.0\n",
      "17\n",
      "\t 0 1 0.5\n",
      "\t 0 2 0.6428571428571429\n",
      "\t 0 3 0.5\n",
      "\t 0 4 0.5714285714285714\n",
      "\t 0 5 0.5\n",
      "\t 0 6 1.0\n",
      "18\n",
      "\t 0 1 0.5714285714285714\n",
      "\t 0 2 0.7142857142857143\n",
      "\t 0 3 1.0\n",
      "19\n",
      "\t 0 1 1.0\n",
      "20\n",
      "\t 0 1 0.8571428571428571\n",
      "\t 0 2 1.0\n",
      "21\n",
      "\t 0 1 0.9285714285714286\n",
      "\t 0 2 0.8571428571428571\n",
      "\t 0 3 0.9285714285714286\n",
      "\t 0 4 0.9285714285714286\n",
      "\t 0 5 1.0\n",
      "22\n",
      "\t 0 1 0.7857142857142857\n",
      "\t 0 2 0.7142857142857143\n",
      "\t 0 3 0.6428571428571429\n",
      "\t 0 4 0.7857142857142857\n",
      "\t 0 5 0.8571428571428571\n",
      "\t 0 6 0.7857142857142857\n",
      "\t 0 7 0.8571428571428571\n",
      "\t 0 8 1.0\n"
     ]
    }
   ],
   "source": [
    "N_to_best_pair_and_info_dict = {}\n",
    "\n",
    "for N in ['All', 'XY'] + list(range(1, 23)):\n",
    "    print(N)\n",
    "    HG002_df = pd.read_csv(\n",
    "        os.path.join(dir_base, f'CMS.LongAlignments.NoUtgs.NoAltExceptPeregrine.chr{N}.PCA.tsv'),\n",
    "        sep = '\\t',\n",
    "        index_col=0\n",
    "    )\n",
    "\n",
    "    #HG002_df = HG002_df.replace('maternal', '#FF0000')\n",
    "    #HG002_df = HG002_df.replace('paternal', '#00FF00')\n",
    "\n",
    "    pair_and_info_list = []\n",
    "\n",
    "    for i, j in itertools.combinations(range(0, HG002_df.shape[0]), 2):\n",
    "        X = HG002_df.iloc[:, [i, j]].values\n",
    "        y = HG002_df.Haplotype.values\n",
    "        \n",
    "        clf = SVC(kernel='linear', C=1.0).fit(X, y)\n",
    "        \n",
    "        score = clf.score(X, y)\n",
    "        print('\\t', i, j, score)\n",
    "        \n",
    "        w = clf.coef_[0]\n",
    "        slope = -w[0] / w[1]\n",
    "        intercept = -clf.intercept_[0] / w[1]\n",
    "        \n",
    "        pair_and_info_list.append([(i, j), score, slope, intercept])\n",
    "        \n",
    "        if score == 1:\n",
    "            break\n",
    "\n",
    "    pair_and_info_list = sorted(pair_and_info_list, key=lambda x: x[1], reverse=True)\n",
    "    \n",
    "    N_to_best_pair_and_info_dict[N] = pair_and_info_list[0]"
   ]
  },
  {
   "cell_type": "code",
   "execution_count": 3,
   "metadata": {},
   "outputs": [
    {
     "data": {
      "text/plain": [
       "{'All': [(0, 1), 1.0, 5.254739735089053, 5737.975350946006],\n",
       " 'XY': [(0, 1), 1.0, 2.0927890510848672, -2727.219076310824],\n",
       " 1: [(0, 4), 1.0, -0.36438726860322235, -78.59442065331429],\n",
       " 2: [(0, 4), 1.0, 0.42520491471733257, -250.7314339650193],\n",
       " 3: [(0, 1), 1.0, -0.012592366095214132, 121.17797770441743],\n",
       " 4: [(0, 1), 1.0, -0.18163616763476212, -14.596568153460494],\n",
       " 5: [(0, 1), 1.0, -0.13070545738331746, -106.94886474130205],\n",
       " 6: [(0, 1), 1.0, 0.2980683498996936, -156.910106672221],\n",
       " 7: [(0, 1), 1.0, 0.18858642750359508, -168.9272003419269],\n",
       " 8: [(0, 2), 1.0, 0.08479691332143245, 29.852148112401135],\n",
       " 9: [(0, 5), 1.0, 0.07996695815196873, -90.70304406979245],\n",
       " 10: [(0, 1), 1.0, 0.18023549525086352, 22.407667095166502],\n",
       " 11: [(0, 1), 1.0, 0.03952644986706539, -98.88438274861944],\n",
       " 12: [(0, 1), 1.0, 1.4237372081286046, 109.55150119159973],\n",
       " 13: [(0, 1), 1.0, -0.5927446157108985, -196.03542199592027],\n",
       " 14: [(0, 1), 1.0, 0.7584107061820465, -56.480255461529126],\n",
       " 15: [(0, 2), 1.0, 0.23474898003265582, -186.23790501893097],\n",
       " 16: [(1, 3), 1.0, -0.33009354214601755, 90.64978462828952],\n",
       " 17: [(0, 6), 1.0, 0.2273872583884239, 22.598443748080626],\n",
       " 18: [(0, 3), 1.0, 0.07922145815171057, -167.32300124632417],\n",
       " 19: [(0, 1), 1.0, 0.2896559956355218, -50.45510783329085],\n",
       " 20: [(0, 2), 1.0, 1.2131934088122183, 478.426421035586],\n",
       " 21: [(0, 5), 1.0, -4.603694765180426, -1106.9101447372796],\n",
       " 22: [(0, 8), 1.0, 0.2969866990200273, 148.6874227397497]}"
      ]
     },
     "execution_count": 3,
     "metadata": {},
     "output_type": "execute_result"
    }
   ],
   "source": [
    "N_to_best_pair_and_info_dict"
   ]
  },
  {
   "cell_type": "markdown",
   "metadata": {},
   "source": [
    "Write the results:"
   ]
  },
  {
   "cell_type": "code",
   "execution_count": 4,
   "metadata": {},
   "outputs": [],
   "source": [
    "import os\n",
    "base_dir = '/home/guarracino/Downloads/Pangenomics/HG002_bakeoff'\n",
    "with open(os.path.join(base_dir, 'BestPairsMatPatSeparationInPCA.tsv'), 'w') as fw:\n",
    "    fw.write('\\t'.join(['N', 'PCx', 'PCy', 'slope', 'intercept']) + '\\n')\n",
    "    \n",
    "    for N, ((PCx, PCy), score, slope, intercept) in N_to_best_pair_and_info_dict.items():\n",
    "        # PC + 1 because in R array indexes start from 1\n",
    "        fw.write('\\t'.join([str(N), str(PCx + 1), str(PCy + 1), str(slope), str(intercept)]) + '\\n')"
   ]
  },
  {
   "cell_type": "code",
   "execution_count": null,
   "metadata": {},
   "outputs": [],
   "source": []
  },
  {
   "cell_type": "markdown",
   "metadata": {},
   "source": [
    "Debugging: plot the last (or one of the) solutions:"
   ]
  },
  {
   "cell_type": "code",
   "execution_count": 5,
   "metadata": {},
   "outputs": [
    {
     "name": "stdout",
     "output_type": "stream",
     "text": [
      "\t 0 8 1.0\n"
     ]
    },
    {
     "data": {
      "text/plain": [
       "Text(0.5, 1.0, 'No Utgs and No alt except Peregrine - chr 22')"
      ]
     },
     "execution_count": 5,
     "metadata": {},
     "output_type": "execute_result"
    },
    {
     "data": {
      "image/png": "[encoded data removed]",
      "text/plain": [
       "<Figure size 432x288 with 1 Axes>"
      ]
     },
     "metadata": {},
     "output_type": "display_data"
    }
   ],
   "source": [
    "def plot_svc_decision_function(model, ax=None, plot_support=True):\n",
    "    \"\"\"Plot the decision function for a 2D SVC\"\"\"\n",
    "    if ax is None:\n",
    "        ax = plt.gca()\n",
    "    xlim = ax.get_xlim()\n",
    "    ylim = ax.get_ylim()\n",
    "    \n",
    "    # create grid to evaluate model\n",
    "    x = np.linspace(xlim[0], xlim[1], 30)\n",
    "    y = np.linspace(ylim[0], ylim[1], 30)\n",
    "    Y, X = np.meshgrid(y, x)\n",
    "    xy = np.vstack([X.ravel(), Y.ravel()]).T\n",
    "    P = model.decision_function(xy).reshape(X.shape)\n",
    "    \n",
    "    # plot decision boundary and margins\n",
    "    ax.contour(X, Y, P, colors='k',\n",
    "               levels=[-1, 0, 1], alpha=0.5,\n",
    "               linestyles=['--', '-', '--'])\n",
    "    \n",
    "    # plot support vectors\n",
    "    if plot_support:\n",
    "        ax.scatter(model.support_vectors_[:, 0],\n",
    "                   model.support_vectors_[:, 1],\n",
    "                   s=100, linewidth=1, facecolors='none',edgecolors='black');\n",
    "    ax.set_xlim(xlim)\n",
    "    ax.set_ylim(ylim)\n",
    "\n",
    "\n",
    "N = '22'\n",
    "i, j = 0, 8\n",
    "    \n",
    "HG002_df = pd.read_csv(\n",
    "    f'/home/guarracino/Downloads/Pangenomics/HG002_bakeoff/CMS.LongAlignments.NoUtgs.NoAltExceptPeregrine.chr{N}.PCA.tsv',\n",
    "    sep = '\\t',\n",
    "    index_col=0\n",
    ")\n",
    "HG002_df = HG002_df.replace('maternal', '#FF0000')\n",
    "HG002_df = HG002_df.replace('paternal', '#00FF00')\n",
    "\n",
    "X = HG002_df.iloc[:, [i, j]].values\n",
    "y = HG002_df.Haplotype.values\n",
    "\n",
    "clf = SVC(kernel='linear', C=5).fit(X, y)\n",
    "score = clf.score(X, y)\n",
    "print('\\t', i, j, score)\n",
    "\n",
    "plt.scatter(X[:, 0], X[:, 1], c=y, s=50, cmap='autumn')\n",
    "plot_svc_decision_function(clf);\n",
    "plt.xlabel(f\"PC {i+1}\");\n",
    "plt.ylabel(f\"PC {j+1}\");\n",
    "plt.title(f'No Utgs and No alt except Peregrine - chr {N}')"
   ]
  }
 ],
 "metadata": {
  "kernelspec": {
   "display_name": "Python 3",
   "language": "python",
   "name": "python3"
  },
  "language_info": {
   "codemirror_mode": {
    "name": "ipython",
    "version": 3
   },
   "file_extension": ".py",
   "mimetype": "text/x-python",
   "name": "python",
   "nbconvert_exporter": "python",
   "pygments_lexer": "ipython3",
   "version": "3.8.10"
  }
 },
 "nbformat": 4,
 "nbformat_minor": 4
}
